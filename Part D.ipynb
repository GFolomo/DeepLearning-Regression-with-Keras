{
 "cells": [
  {
   "cell_type": "code",
   "execution_count": null,
   "id": "b204ee78-f90a-4237-8727-dd3bc146e9dd",
   "metadata": {},
   "outputs": [],
   "source": [
    "Part D"
   ]
  },
  {
   "cell_type": "code",
   "execution_count": 1,
   "id": "e01308c2-d88b-439f-a31a-1159b8a09051",
   "metadata": {
    "tags": []
   },
   "outputs": [
    {
     "name": "stderr",
     "output_type": "stream",
     "text": [
      "/home/jupyterlab/conda/envs/python/lib/python3.7/site-packages/sklearn/utils/validation.py:37: DeprecationWarning: distutils Version classes are deprecated. Use packaging.version instead.\n",
      "  LARGE_SPARSE_SUPPORTED = LooseVersion(scipy_version) >= '0.14.0'\n",
      "Using TensorFlow backend.\n",
      "/home/jupyterlab/conda/envs/python/lib/python3.7/site-packages/tensorflow/python/framework/dtypes.py:516: FutureWarning: Passing (type, 1) or '1type' as a synonym of type is deprecated; in a future version of numpy, it will be understood as (type, (1,)) / '(1,)type'.\n",
      "  _np_qint8 = np.dtype([(\"qint8\", np.int8, 1)])\n",
      "/home/jupyterlab/conda/envs/python/lib/python3.7/site-packages/tensorflow/python/framework/dtypes.py:517: FutureWarning: Passing (type, 1) or '1type' as a synonym of type is deprecated; in a future version of numpy, it will be understood as (type, (1,)) / '(1,)type'.\n",
      "  _np_quint8 = np.dtype([(\"quint8\", np.uint8, 1)])\n",
      "/home/jupyterlab/conda/envs/python/lib/python3.7/site-packages/tensorflow/python/framework/dtypes.py:518: FutureWarning: Passing (type, 1) or '1type' as a synonym of type is deprecated; in a future version of numpy, it will be understood as (type, (1,)) / '(1,)type'.\n",
      "  _np_qint16 = np.dtype([(\"qint16\", np.int16, 1)])\n",
      "/home/jupyterlab/conda/envs/python/lib/python3.7/site-packages/tensorflow/python/framework/dtypes.py:519: FutureWarning: Passing (type, 1) or '1type' as a synonym of type is deprecated; in a future version of numpy, it will be understood as (type, (1,)) / '(1,)type'.\n",
      "  _np_quint16 = np.dtype([(\"quint16\", np.uint16, 1)])\n",
      "/home/jupyterlab/conda/envs/python/lib/python3.7/site-packages/tensorflow/python/framework/dtypes.py:520: FutureWarning: Passing (type, 1) or '1type' as a synonym of type is deprecated; in a future version of numpy, it will be understood as (type, (1,)) / '(1,)type'.\n",
      "  _np_qint32 = np.dtype([(\"qint32\", np.int32, 1)])\n",
      "/home/jupyterlab/conda/envs/python/lib/python3.7/site-packages/tensorflow/python/framework/dtypes.py:525: FutureWarning: Passing (type, 1) or '1type' as a synonym of type is deprecated; in a future version of numpy, it will be understood as (type, (1,)) / '(1,)type'.\n",
      "  np_resource = np.dtype([(\"resource\", np.ubyte, 1)])\n",
      "/home/jupyterlab/conda/envs/python/lib/python3.7/site-packages/tensorboard/compat/tensorflow_stub/dtypes.py:541: FutureWarning: Passing (type, 1) or '1type' as a synonym of type is deprecated; in a future version of numpy, it will be understood as (type, (1,)) / '(1,)type'.\n",
      "  _np_qint8 = np.dtype([(\"qint8\", np.int8, 1)])\n",
      "/home/jupyterlab/conda/envs/python/lib/python3.7/site-packages/tensorboard/compat/tensorflow_stub/dtypes.py:542: FutureWarning: Passing (type, 1) or '1type' as a synonym of type is deprecated; in a future version of numpy, it will be understood as (type, (1,)) / '(1,)type'.\n",
      "  _np_quint8 = np.dtype([(\"quint8\", np.uint8, 1)])\n",
      "/home/jupyterlab/conda/envs/python/lib/python3.7/site-packages/tensorboard/compat/tensorflow_stub/dtypes.py:543: FutureWarning: Passing (type, 1) or '1type' as a synonym of type is deprecated; in a future version of numpy, it will be understood as (type, (1,)) / '(1,)type'.\n",
      "  _np_qint16 = np.dtype([(\"qint16\", np.int16, 1)])\n",
      "/home/jupyterlab/conda/envs/python/lib/python3.7/site-packages/tensorboard/compat/tensorflow_stub/dtypes.py:544: FutureWarning: Passing (type, 1) or '1type' as a synonym of type is deprecated; in a future version of numpy, it will be understood as (type, (1,)) / '(1,)type'.\n",
      "  _np_quint16 = np.dtype([(\"quint16\", np.uint16, 1)])\n",
      "/home/jupyterlab/conda/envs/python/lib/python3.7/site-packages/tensorboard/compat/tensorflow_stub/dtypes.py:545: FutureWarning: Passing (type, 1) or '1type' as a synonym of type is deprecated; in a future version of numpy, it will be understood as (type, (1,)) / '(1,)type'.\n",
      "  _np_qint32 = np.dtype([(\"qint32\", np.int32, 1)])\n",
      "/home/jupyterlab/conda/envs/python/lib/python3.7/site-packages/tensorboard/compat/tensorflow_stub/dtypes.py:550: FutureWarning: Passing (type, 1) or '1type' as a synonym of type is deprecated; in a future version of numpy, it will be understood as (type, (1,)) / '(1,)type'.\n",
      "  np_resource = np.dtype([(\"resource\", np.ubyte, 1)])\n"
     ]
    },
    {
     "name": "stdout",
     "output_type": "stream",
     "text": [
      "WARNING:tensorflow:From /home/jupyterlab/conda/envs/python/lib/python3.7/site-packages/keras/backend/tensorflow_backend.py:68: The name tf.get_default_graph is deprecated. Please use tf.compat.v1.get_default_graph instead.\n",
      "\n",
      "WARNING:tensorflow:From /home/jupyterlab/conda/envs/python/lib/python3.7/site-packages/keras/backend/tensorflow_backend.py:508: The name tf.placeholder is deprecated. Please use tf.compat.v1.placeholder instead.\n",
      "\n",
      "WARNING:tensorflow:From /home/jupyterlab/conda/envs/python/lib/python3.7/site-packages/keras/backend/tensorflow_backend.py:3837: The name tf.random_uniform is deprecated. Please use tf.random.uniform instead.\n",
      "\n"
     ]
    },
    {
     "name": "stderr",
     "output_type": "stream",
     "text": [
      "/home/jupyterlab/conda/envs/python/lib/python3.7/site-packages/sklearn/preprocessing/data.py:625: DataConversionWarning: Data with input dtype int64, float64 were all converted to float64 by StandardScaler.\n",
      "  return self.partial_fit(X, y)\n",
      "/home/jupyterlab/conda/envs/python/lib/python3.7/site-packages/sklearn/base.py:462: DataConversionWarning: Data with input dtype int64, float64 were all converted to float64 by StandardScaler.\n",
      "  return self.fit(X, **fit_params).transform(X)\n"
     ]
    },
    {
     "name": "stdout",
     "output_type": "stream",
     "text": [
      "WARNING:tensorflow:From /home/jupyterlab/conda/envs/python/lib/python3.7/site-packages/keras/optimizers.py:757: The name tf.train.Optimizer is deprecated. Please use tf.compat.v1.train.Optimizer instead.\n",
      "\n",
      "WARNING:tensorflow:From /home/jupyterlab/conda/envs/python/lib/python3.7/site-packages/keras/backend/tensorflow_backend.py:977: The name tf.assign_add is deprecated. Please use tf.compat.v1.assign_add instead.\n",
      "\n",
      "WARNING:tensorflow:From /home/jupyterlab/conda/envs/python/lib/python3.7/site-packages/keras/backend/tensorflow_backend.py:964: The name tf.assign is deprecated. Please use tf.compat.v1.assign instead.\n",
      "\n"
     ]
    },
    {
     "name": "stderr",
     "output_type": "stream",
     "text": [
      "2023-09-23 14:18:17.997781: I tensorflow/core/platform/cpu_feature_guard.cc:142] Your CPU supports instructions that this TensorFlow binary was not compiled to use: SSE4.1 SSE4.2 AVX AVX2 AVX512F FMA\n",
      "2023-09-23 14:18:18.017426: I tensorflow/core/platform/profile_utils/cpu_utils.cc:94] CPU Frequency: 2394280000 Hz\n",
      "2023-09-23 14:18:18.018239: I tensorflow/compiler/xla/service/service.cc:168] XLA service 0x5612b48c18d0 executing computations on platform Host. Devices:\n",
      "2023-09-23 14:18:18.018328: I tensorflow/compiler/xla/service/service.cc:175]   StreamExecutor device (0): <undefined>, <undefined>\n",
      "2023-09-23 14:18:18.597458: W tensorflow/compiler/jit/mark_for_compilation_pass.cc:1412] (One-time warning): Not using XLA:CPU for cluster because envvar TF_XLA_FLAGS=--tf_xla_cpu_global_jit was not set.  If you want XLA:CPU, either set that envvar, or use experimental_jit_scope to enable XLA:CPU.  To confirm that XLA is active, pass --vmodule=xla_compilation_cache=1 (as a proper command-line flag, not via TF_XLA_FLAGS) or set the envvar XLA_FLAGS=--xla_hlo_profile.\n"
     ]
    },
    {
     "name": "stdout",
     "output_type": "stream",
     "text": [
      "Iteration 1: Mean Squared Error = 132.12\n",
      "Iteration 2: Mean Squared Error = 126.40\n",
      "Iteration 3: Mean Squared Error = 101.68\n",
      "Iteration 4: Mean Squared Error = 112.37\n",
      "Iteration 5: Mean Squared Error = 132.93\n",
      "Iteration 6: Mean Squared Error = 90.69\n",
      "Iteration 7: Mean Squared Error = 132.82\n",
      "Iteration 8: Mean Squared Error = 130.82\n",
      "Iteration 9: Mean Squared Error = 92.09\n",
      "Iteration 10: Mean Squared Error = 133.43\n",
      "Iteration 11: Mean Squared Error = 127.93\n",
      "Iteration 12: Mean Squared Error = 129.27\n",
      "Iteration 13: Mean Squared Error = 139.70\n",
      "Iteration 14: Mean Squared Error = 141.63\n",
      "Iteration 15: Mean Squared Error = 122.84\n",
      "Iteration 16: Mean Squared Error = 128.52\n",
      "Iteration 17: Mean Squared Error = 94.67\n",
      "Iteration 18: Mean Squared Error = 105.73\n",
      "Iteration 19: Mean Squared Error = 129.15\n",
      "Iteration 20: Mean Squared Error = 137.53\n",
      "Iteration 21: Mean Squared Error = 125.45\n",
      "Iteration 22: Mean Squared Error = 131.98\n",
      "Iteration 23: Mean Squared Error = 135.99\n",
      "Iteration 24: Mean Squared Error = 110.03\n",
      "Iteration 25: Mean Squared Error = 135.74\n",
      "Iteration 26: Mean Squared Error = 128.89\n",
      "Iteration 27: Mean Squared Error = 117.39\n",
      "Iteration 28: Mean Squared Error = 136.91\n",
      "Iteration 29: Mean Squared Error = 137.96\n",
      "Iteration 30: Mean Squared Error = 129.36\n",
      "Iteration 31: Mean Squared Error = 103.92\n",
      "Iteration 32: Mean Squared Error = 119.81\n",
      "Iteration 33: Mean Squared Error = 128.70\n",
      "Iteration 34: Mean Squared Error = 122.77\n",
      "Iteration 35: Mean Squared Error = 120.81\n",
      "Iteration 36: Mean Squared Error = 129.19\n",
      "Iteration 37: Mean Squared Error = 133.51\n",
      "Iteration 38: Mean Squared Error = 129.72\n",
      "Iteration 39: Mean Squared Error = 131.82\n",
      "Iteration 40: Mean Squared Error = 130.63\n",
      "Iteration 41: Mean Squared Error = 122.26\n",
      "Iteration 42: Mean Squared Error = 125.49\n",
      "Iteration 43: Mean Squared Error = 126.95\n",
      "Iteration 44: Mean Squared Error = 136.52\n",
      "Iteration 45: Mean Squared Error = 124.97\n",
      "Iteration 46: Mean Squared Error = 130.43\n",
      "Iteration 47: Mean Squared Error = 130.71\n",
      "Iteration 48: Mean Squared Error = 129.61\n",
      "Iteration 49: Mean Squared Error = 124.91\n",
      "Iteration 50: Mean Squared Error = 132.51\n",
      "Average Mean Squared Error over 50 iterations: 125.34\n"
     ]
    }
   ],
   "source": [
    "import numpy as np\n",
    "import pandas as pd\n",
    "from sklearn.model_selection import train_test_split\n",
    "from sklearn.preprocessing import StandardScaler\n",
    "from sklearn.metrics import mean_squared_error\n",
    "from keras.models import Sequential\n",
    "from keras.layers import Dense\n",
    "from keras.optimizers import Adam\n",
    "\n",
    "# Load the data\n",
    "data = pd.read_csv('https://cocl.us/concrete_data')\n",
    "\n",
    "# Separate the predictors (X) and target (y)\n",
    "X = data.drop(columns=['Strength'])\n",
    "y = data['Strength']\n",
    "\n",
    "# Normalize the input data\n",
    "scaler = StandardScaler()\n",
    "X_normalized = scaler.fit_transform(X)\n",
    "\n",
    "# Initialize a list to store mean squared errors\n",
    "mse_list = []\n",
    "\n",
    "# Repeat the process 50 times\n",
    "for _ in range(50):\n",
    "    # Split the normalized data into training and testing sets (70% training, 30% testing)\n",
    "    X_train, X_test, y_train, y_test = train_test_split(X_normalized, y, test_size=0.3, random_state=42)\n",
    "\n",
    "    # Build the neural network model with 3 hidden layers, each with 10 nodes and ReLU activation\n",
    "    model = Sequential()\n",
    "    model.add(Dense(10, activation='relu', input_shape=(X_train.shape[1],)))\n",
    "    model.add(Dense(10, activation='relu'))\n",
    "    model.add(Dense(10, activation='relu'))\n",
    "    model.add(Dense(1))  # Output layer with 1 neuron for regression\n",
    "\n",
    "    # Compile the model\n",
    "    model.compile(optimizer='adam', loss='mean_squared_error')\n",
    "\n",
    "    # Train the model for 50 epochs\n",
    "    model.fit(X_train, y_train, epochs=50, verbose=0)\n",
    "\n",
    "    # Evaluate the model on the test data\n",
    "    y_pred = model.predict(X_test)\n",
    "\n",
    "    # Calculate mean squared error and append it to the list\n",
    "    mse = mean_squared_error(y_test, y_pred)\n",
    "    mse_list.append(mse)\n",
    "\n",
    "# Print the list of mean squared errors\n",
    "for i, mse in enumerate(mse_list):\n",
    "    print(f\"Iteration {i+1}: Mean Squared Error = {mse:.2f}\")\n",
    "\n",
    "# Calculate the average mean squared error\n",
    "average_mse = np.mean(mse_list)\n",
    "print(f\"Average Mean Squared Error over 50 iterations: {average_mse:.2f}\")"
   ]
  },
  {
   "cell_type": "code",
   "execution_count": null,
   "id": "2222f54e-3b0a-45d3-b233-6bd16d69f163",
   "metadata": {},
   "outputs": [],
   "source": []
  }
 ],
 "metadata": {
  "kernelspec": {
   "display_name": "Python",
   "language": "python",
   "name": "conda-env-python-py"
  },
  "language_info": {
   "codemirror_mode": {
    "name": "ipython",
    "version": 3
   },
   "file_extension": ".py",
   "mimetype": "text/x-python",
   "name": "python",
   "nbconvert_exporter": "python",
   "pygments_lexer": "ipython3",
   "version": "3.7.12"
  }
 },
 "nbformat": 4,
 "nbformat_minor": 5
}
